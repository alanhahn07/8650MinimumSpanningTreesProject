{
 "cells": [
  {
   "cell_type": "code",
   "execution_count": 3,
   "metadata": {},
   "outputs": [
    {
     "ename": "Error",
     "evalue": "iterator should return strings, not bytes (the file should be opened in text mode)",
     "output_type": "error",
     "traceback": [
      "\u001b[0;31m---------------------------------------------------------------------------\u001b[0m",
      "\u001b[0;31mError\u001b[0m                                     Traceback (most recent call last)",
      "Input \u001b[0;32mIn [3]\u001b[0m, in \u001b[0;36m<cell line: 5>\u001b[0;34m()\u001b[0m\n\u001b[1;32m      6\u001b[0m     reader \u001b[38;5;241m=\u001b[39m csv\u001b[38;5;241m.\u001b[39mreader(f)\n\u001b[1;32m      7\u001b[0m     l \u001b[38;5;241m=\u001b[39m []\n\u001b[0;32m----> 8\u001b[0m     \u001b[38;5;28;01mfor\u001b[39;00m row \u001b[38;5;129;01min\u001b[39;00m reader:\n\u001b[1;32m      9\u001b[0m         l\u001b[38;5;241m.\u001b[39mappend((\u001b[38;5;28mint\u001b[39m(row[\u001b[38;5;241m0\u001b[39m]),row[\u001b[38;5;241m1\u001b[39m],row[\u001b[38;5;241m2\u001b[39m]))\n\u001b[1;32m     10\u001b[0m \u001b[38;5;28mprint\u001b[39m(\u001b[38;5;28mlen\u001b[39m(l), l[:\u001b[38;5;241m5\u001b[39m]) \n",
      "\u001b[0;31mError\u001b[0m: iterator should return strings, not bytes (the file should be opened in text mode)"
     ]
    }
   ],
   "source": [
    "#This is a graph extracted from a file from the Stanford Network Analysis Project, with the title of this data\n",
    "#set as Bitcoin OTC trust weighted signed network. This is cited in the write up of this project.\n",
    "\n",
    "import csv\n",
    "with open('soc-sign-bitcoinotc.csv', 'rb') as f:\n",
    "    reader = csv.reader(f)\n",
    "    l = []\n",
    "    for row in reader:\n",
    "        l.append((int(row[0]),row[1],row[2]))\n",
    "print(len(l), l[:5]) \n",
    "\n",
    "#l = l[:7000]\n",
    "print(len(l), l[:5]) \n",
    "\n",
    "#We take the first 7000 of these edges and use it to construct a MST of the graph. We do 7000 instead of the full \n",
    "#35592 as Kruskal with the naive implementation would get runtime errors"
   ]
  },
  {
   "cell_type": "markdown",
   "metadata": {},
   "source": [
    "The following is the Partition class where the partition class is implemented with path compression and the rank heuristic. Then an example is run."
   ]
  },
  {
   "cell_type": "code",
   "execution_count": 4,
   "metadata": {},
   "outputs": [],
   "source": [
    "#this is the priority queue class from HW 5\n",
    "\n",
    "class PriorityQueue():\n",
    "    '''\n",
    "    The arguments passed to a PriorityQueue must consist of\n",
    "    objects than can be compared using <.\n",
    "    Use a tuple (priority, item) if necessary.\n",
    "    '''\n",
    "\n",
    "    def __init__(self):\n",
    "        self._array = []\n",
    "\n",
    "    def push(self, obj):\n",
    "        # append at end and bubble up\n",
    "        self._array.append(obj)\n",
    "        n = len(self._array)\n",
    "        self._bubble_up(n-1)\n",
    "        \n",
    "    def pop(self):\n",
    "        n = len(self._array)\n",
    "        if n==0:\n",
    "            return None\n",
    "        if n==1:\n",
    "            return self._array.pop()\n",
    "        \n",
    "        # replace with last item and sift down:\n",
    "        obj = self._array[0]\n",
    "        self._array[0] = self._array.pop()\n",
    "        self._sift_down(0)\n",
    "        return obj\n",
    "    \n",
    "    def _parent(self, n):\n",
    "        return (n-1)//2\n",
    "\n",
    "    def _left_child(self, n):\n",
    "        return 2*n + 1\n",
    "\n",
    "    def _right_child(self, n):\n",
    "        return 2*n + 2\n",
    "\n",
    "    def _bubble_up(self, index):\n",
    "        while index>0:\n",
    "            cur_item = self._array[index]\n",
    "            parent_idx = self._parent(index)\n",
    "            parent_item = self._array[parent_idx]\n",
    "            \n",
    "            if cur_item < parent_item:\n",
    "                # swap with parent\n",
    "                self._array[parent_idx] = cur_item\n",
    "                self._array[index] = parent_item\n",
    "                index = parent_idx\n",
    "            else:\n",
    "                break\n",
    "    \n",
    "    def _sift_down(self,index):\n",
    "        n = len(self._array)\n",
    "        \n",
    "        while index<n:           \n",
    "            cur_item = self._array[index]\n",
    "            lc = self._left_child(index)\n",
    "            if n <= lc:\n",
    "                break\n",
    "\n",
    "            # first set small child to left child:\n",
    "            small_child_item = self._array[lc]\n",
    "            small_child_idx = lc\n",
    "            \n",
    "            # right exists and is smaller?\n",
    "            rc = self._right_child(index)\n",
    "            if rc < n:\n",
    "                r_item = self._array[rc]\n",
    "                if r_item < small_child_item:\n",
    "                    # right child is smaller than left child:\n",
    "                    small_child_item = r_item\n",
    "                    small_child_idx = rc\n",
    "            \n",
    "            # done: we are smaller than both children:\n",
    "            if cur_item <= small_child_item:\n",
    "                break\n",
    "            \n",
    "            # swap with smallest child:\n",
    "            self._array[index] = small_child_item\n",
    "            self._array[small_child_idx] = cur_item\n",
    "            \n",
    "            # continue with smallest child:\n",
    "            index = small_child_idx\n",
    "        \n",
    "    def size(self):\n",
    "        return len(self._array)\n",
    "    \n",
    "    def is_empty(self):\n",
    "        return len(self._array) == 0\n",
    "    \n",
    "    def heapify(self, items):\n",
    "        \"\"\" Take an array of unsorted items and replace the contents\n",
    "        of this priority queue by them. \"\"\"\n",
    "        self._array = items\n",
    "        i = len(self._array)//2\n",
    "        while i != -1:\n",
    "            self._sift_down(i)\n",
    "            i-=1"
   ]
  },
  {
   "cell_type": "code",
   "execution_count": 5,
   "metadata": {},
   "outputs": [],
   "source": [
    "class Partition():\n",
    "    \n",
    "    def __init__(self,V):                                  #the data structure is a map, and for each node v,\n",
    "        self._position = {}                                #the value of v is v's parent node and v's rank,\n",
    "        for v in V:                                        #where v's parent node is initialized to v.\n",
    "            self._position[v] = [v,0]  \n",
    "        \n",
    "    def find(self,v):                           #find finds and returns the representative of the part which\n",
    "        if self._position[v][0] != v:           #contains v by following the parent node path of v to the \n",
    "            self._position[v][0] = self.find(self._position[v][0])  #representative, updating the parent \n",
    "        return(self._position[v][0])                            #of each node seen to the representative element. \n",
    "    \n",
    "    def link(self,u,v):                                    #Note that link's inputs are representative elements\n",
    "        if self._position[u][1] > self._position[v][1]:    #and not arbitrary elements. link takes two\n",
    "            u,v = v,u                                      #representatives u,v and if rank(u) = rank(v),\n",
    "        if self._position[u][1] == self._position[v][1]:   #then increase rank(v) by one and set u's parent node \n",
    "             self._position[v][1]+=1                       #v. If wlog rank(u) < rank(v), set u's parent node to  \n",
    "        self._position[u][0] = v                           #v."
   ]
  },
  {
   "cell_type": "code",
   "execution_count": 6,
   "metadata": {},
   "outputs": [],
   "source": [
    "def MSTKruskal(E):\n",
    "    \n",
    "    blue = []                            #initialize\n",
    "    V = set()\n",
    "    for e in E:\n",
    "        V.add(e[1])\n",
    "        V.add(e[2])\n",
    "    forest = Partition(V)\n",
    "\n",
    "\n",
    "    P = PriorityQueue()                      #place the edges in a priority queue to be able to find the edge\n",
    "    P.heapify(E)                             #with smallest edge weight and to not query edges which are not \n",
    "                                             #necessary (i.e. sorting first may sort edges we will never use)\n",
    "    n = len(V)\n",
    "    while len(blue) != n-1 and not len(P._array) == 0:  #do until blue tree has n-1 edges or until there are no \n",
    "        l = P.pop()                                     #edges left to consider\n",
    "        u = forest.find(l[1])                          \n",
    "        v = forest.find(l[2])                       #for each (u,v) = e in E, in order by edge weight from\n",
    "        if u != v:                                  #low to high, check if u,v are  both in the  same partition;\n",
    "            forest.link(u,v)                        #if not, put them in the same partition and add (u,v)\n",
    "            blue.append(l)                          #to blue. If they are, skip this edge and go to the edge with  \n",
    "                                                    #the next smallest edge weight by popping from P.\n",
    "    return(blue)"
   ]
  },
  {
   "cell_type": "code",
   "execution_count": 8,
   "metadata": {},
   "outputs": [
    {
     "name": "stdout",
     "output_type": "stream",
     "text": [
      "[(2, 'd', 'b'), (3, 'c', 'd'), (4, 'e', 'g'), (5, 'c', 'a'), (12, 'd', 'e'), (16, 'f', 'c')]\n",
      "1.66 µs ± 94 ns per loop (mean ± std. dev. of 7 runs, 100,000 loops each)\n",
      "0\n",
      "Time for implementation with path compression and union by rank is 0.00017575803212821484\n"
     ]
    }
   ],
   "source": [
    "import timeit\n",
    "E = [(8, 'a', 'b'), (5, 'c', 'a'), (16, 'f', 'c'), (26, 'g', 'f'), (4, 'e', 'g'), (18, 'b', 'e'), (10, 'c', 'b'), (2, 'd', 'b'), (3, 'c', 'd'), (12, 'd', 'e'), (30, 'f', 'd'), (14, 'g', 'd')]\n",
    "print(MSTKruskal(E))\n",
    "%timeit MSTKruskal(E)\n",
    "start = timeit.default_timer()\n",
    "t = MSTKruskal(l);        #Checking time for Kruskal with 7000 edges\n",
    "print(len(t))\n",
    "print(\"Time for implementation with path compression and union by rank is\",timeit.default_timer() - start)"
   ]
  },
  {
   "cell_type": "code",
   "execution_count": null,
   "metadata": {},
   "outputs": [],
   "source": []
  },
  {
   "cell_type": "code",
   "execution_count": null,
   "metadata": {},
   "outputs": [],
   "source": []
  },
  {
   "cell_type": "code",
   "execution_count": null,
   "metadata": {},
   "outputs": [],
   "source": []
  },
  {
   "cell_type": "code",
   "execution_count": 17,
   "metadata": {},
   "outputs": [
    {
     "name": "stdout",
     "output_type": "stream",
     "text": [
      "35592 [(4, '2', '6'), (2, '5', '6'), (1, '15', '1'), (7, '3', '4'), (8, '16', '13')]\n",
      "35592 [(4, '2', '6'), (2, '5', '6'), (1, '15', '1'), (7, '3', '4'), (8, '16', '13')]\n"
     ]
    }
   ],
   "source": [
    "import csv\n",
    "with open('soc-sign-bitcoinotc.csv', 'rb') as f:\n",
    "    reader = csv.reader(f)\n",
    "    l = []\n",
    "    for row in reader:\n",
    "        l.append((int(row[0]),row[1],row[2]))\n",
    "print len(l), l[:5]\n",
    "\n",
    "#l = l[:7000]\n",
    "print len(l), l[:5]"
   ]
  },
  {
   "cell_type": "code",
   "execution_count": 9,
   "metadata": {},
   "outputs": [],
   "source": [
    "#Naive version of the partition class. Does not implement the rank heuristic or path compression\n",
    "\n",
    "class Partition():              \n",
    "                                \n",
    "    def __init__(self,V):\n",
    "        self._position = {}                   #data structure is still a map, but key value is only parent node\n",
    "        for v in V:                           #instead of parent, rank\n",
    "            self._position[v] = v\n",
    "        \n",
    "    def find(self,v):\n",
    "        if self._position[v] == v:                #this function does not update the parent nodes along the parent\n",
    "            return(v)                             #node path to be the representative element, it only follows  \n",
    "        else:                                     #the parent node path and returns the representative of the  \n",
    "            return(self.find(self._position[v]))  #part which contatins v.\n",
    "    \n",
    "    def link(self,u,v):                        #just changes representative u's parent node from u \n",
    "        self._position[u] = v                  #to the representative v"
   ]
  },
  {
   "cell_type": "code",
   "execution_count": 10,
   "metadata": {},
   "outputs": [],
   "source": [
    "def MSTKruskal(E):\n",
    "    \n",
    "    blue = []                            #initialize\n",
    "    V = set()\n",
    "    for e in E:\n",
    "        V.add(e[1])\n",
    "        V.add(e[2])\n",
    "    forest = Partition(V)\n",
    "\n",
    "\n",
    "    P = PriorityQueue()                      #place the edges in a priority queue to be able to find the edge\n",
    "    P.heapify(E)                             #with smallest edge weight and to not query edges which are not \n",
    "                                             #necessary (i.e. sorting first may sort edges we will never use)\n",
    "    n = len(V)\n",
    "    while len(blue) != n-1 and not len(P._array) == 0:  #do until blue tree has n-1 edges or until there are no \n",
    "        l = P.pop()                                     #edges left to consider\n",
    "        u = forest.find(l[1])                          \n",
    "        v = forest.find(l[2])                       #for each (u,v) = e in E, in order by edge weight from\n",
    "        if u != v:                                  #low to high, check if u,v are  both in the  same partition;\n",
    "            forest.link(u,v)                        #if not, put them in the same partition and add (u,v)\n",
    "            blue.append(l)                          #to blue. If they are, skip this edge and go to the edge with  \n",
    "                                                    #the next smallest edge weight by popping from P.\n",
    "    return(blue)"
   ]
  },
  {
   "cell_type": "code",
   "execution_count": 12,
   "metadata": {},
   "outputs": [
    {
     "name": "stdout",
     "output_type": "stream",
     "text": [
      "[(2, 'd', 'b'), (3, 'c', 'd'), (4, 'e', 'g'), (5, 'c', 'a'), (12, 'd', 'e'), (16, 'f', 'c')]\n",
      "2.29 µs ± 817 ns per loop (mean ± std. dev. of 7 runs, 1,000,000 loops each)\n",
      "0\n",
      "Time for 7000 edges with naive implementation is 0.0004834530409425497\n"
     ]
    }
   ],
   "source": [
    "import timeit\n",
    "E = [(8, 'a', 'b'), (5, 'c', 'a'), (16, 'f', 'c'), (26, 'g', 'f'), (4, 'e', 'g'), (18, 'b', 'e'), (10, 'c', 'b'), (2, 'd', 'b'), (3, 'c', 'd'), (12, 'd', 'e'), (30, 'f', 'd'), (14, 'g', 'd')]\n",
    "print(MSTKruskal(E))\n",
    "%timeit MSTKruskal(E)\n",
    "start = timeit.default_timer()\n",
    "t = MSTKruskal(l);                              #Checking time for Kruskal with naive Parition and 7000 edges\n",
    "print(len(t))\n",
    "print(\"Time for 7000 edges with naive implementation is\",timeit.default_timer() - start)"
   ]
  },
  {
   "cell_type": "code",
   "execution_count": 6,
   "metadata": {},
   "outputs": [
    {
     "data": {
      "text/plain": [
       "'3.8.8'"
      ]
     },
     "execution_count": 6,
     "metadata": {},
     "output_type": "execute_result"
    }
   ],
   "source": []
  },
  {
   "cell_type": "code",
   "execution_count": 7,
   "metadata": {},
   "outputs": [],
   "source": []
  },
  {
   "cell_type": "code",
   "execution_count": 10,
   "metadata": {},
   "outputs": [
    {
     "data": {
      "text/plain": [
       "3"
      ]
     },
     "execution_count": 10,
     "metadata": {},
     "output_type": "execute_result"
    }
   ],
   "source": [
    "\n"
   ]
  },
  {
   "cell_type": "code",
   "execution_count": null,
   "metadata": {},
   "outputs": [],
   "source": []
  }
 ],
 "metadata": {
  "kernelspec": {
   "display_name": "Python 3 (ipykernel)",
   "language": "python",
   "name": "python3"
  },
  "language_info": {
   "codemirror_mode": {
    "name": "ipython",
    "version": 3
   },
   "file_extension": ".py",
   "mimetype": "text/x-python",
   "name": "python",
   "nbconvert_exporter": "python",
   "pygments_lexer": "ipython3",
   "version": "3.10.6"
  }
 },
 "nbformat": 4,
 "nbformat_minor": 2
}
